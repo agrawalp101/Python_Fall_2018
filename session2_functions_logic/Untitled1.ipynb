{
 "cells": [
  {
   "cell_type": "code",
   "execution_count": 1,
   "metadata": {},
   "outputs": [
    {
     "name": "stdout",
     "output_type": "stream",
     "text": [
      "1\n"
     ]
    }
   ],
   "source": [
    "def func():\n",
    "    print(a)\n",
    "a=1\n",
    "func()"
   ]
  },
  {
   "cell_type": "code",
   "execution_count": 2,
   "metadata": {},
   "outputs": [
    {
     "ename": "UnboundLocalError",
     "evalue": "local variable 'a' referenced before assignment",
     "output_type": "error",
     "traceback": [
      "\u001b[0;31m---------------------------------------------------------------------------\u001b[0m",
      "\u001b[0;31mUnboundLocalError\u001b[0m                         Traceback (most recent call last)",
      "\u001b[0;32m<ipython-input-2-1c2ae796b16a>\u001b[0m in \u001b[0;36m<module>\u001b[0;34m()\u001b[0m\n\u001b[1;32m      2\u001b[0m     \u001b[0ma\u001b[0m\u001b[0;34m+=\u001b[0m\u001b[0;36m1\u001b[0m\u001b[0;34m\u001b[0m\u001b[0m\n\u001b[1;32m      3\u001b[0m \u001b[0ma\u001b[0m \u001b[0;34m=\u001b[0m \u001b[0;36m1\u001b[0m\u001b[0;34m\u001b[0m\u001b[0m\n\u001b[0;32m----> 4\u001b[0;31m \u001b[0mfunc2\u001b[0m\u001b[0;34m(\u001b[0m\u001b[0;34m)\u001b[0m\u001b[0;34m\u001b[0m\u001b[0m\n\u001b[0m",
      "\u001b[0;32m<ipython-input-2-1c2ae796b16a>\u001b[0m in \u001b[0;36mfunc2\u001b[0;34m()\u001b[0m\n\u001b[1;32m      1\u001b[0m \u001b[0;32mdef\u001b[0m \u001b[0mfunc2\u001b[0m\u001b[0;34m(\u001b[0m\u001b[0;34m)\u001b[0m\u001b[0;34m:\u001b[0m\u001b[0;34m\u001b[0m\u001b[0m\n\u001b[0;32m----> 2\u001b[0;31m     \u001b[0ma\u001b[0m\u001b[0;34m+=\u001b[0m\u001b[0;36m1\u001b[0m\u001b[0;34m\u001b[0m\u001b[0m\n\u001b[0m\u001b[1;32m      3\u001b[0m \u001b[0ma\u001b[0m \u001b[0;34m=\u001b[0m \u001b[0;36m1\u001b[0m\u001b[0;34m\u001b[0m\u001b[0m\n\u001b[1;32m      4\u001b[0m \u001b[0mfunc2\u001b[0m\u001b[0;34m(\u001b[0m\u001b[0;34m)\u001b[0m\u001b[0;34m\u001b[0m\u001b[0m\n",
      "\u001b[0;31mUnboundLocalError\u001b[0m: local variable 'a' referenced before assignment"
     ]
    }
   ],
   "source": [
    "def func2():\n",
    "    a+=1\n",
    "a = 1\n",
    "func2()"
   ]
  },
  {
   "cell_type": "code",
   "execution_count": 3,
   "metadata": {},
   "outputs": [
    {
     "name": "stdout",
     "output_type": "stream",
     "text": [
      "Value of a after calling func1:  2\n",
      "Value of b inside func3:  3\n",
      "Value of b after calling func2 3\n"
     ]
    }
   ],
   "source": [
    "def func1():\n",
    "    global a\n",
    "    a = a+1\n",
    "\n",
    "\n",
    "def func2():\n",
    "    b = 3\n",
    "    c = 5\n",
    "    def func3():\n",
    "        global b\n",
    "        b = b+1\n",
    "        print('Value of b inside func3: ',b)   \n",
    "\n",
    "    func3()\n",
    "\n",
    "a=1\n",
    "b=2\n",
    "func1()\n",
    "print('Value of a after calling func1: ', a)\n",
    "\n",
    "func2()\n",
    "print('Value of b after calling func2', b)"
   ]
  },
  {
   "cell_type": "code",
   "execution_count": 4,
   "metadata": {},
   "outputs": [
    {
     "name": "stdout",
     "output_type": "stream",
     "text": [
      " True and False =  False\n",
      " True and  True =  True\n",
      "False and False =  False\n",
      " \n",
      " True or False =  True\n",
      " True or  True =  True\n",
      "False or False =  False\n",
      " \n",
      " not  True =  False\n",
      " not False =  True\n"
     ]
    }
   ],
   "source": [
    "a = True\n",
    "b = False\n",
    "#and\n",
    "print(\" True and False = \" , a and b)\n",
    "print(\" True and  True = \"  , a and a)\n",
    "print(\"False and False = \",b and b)\n",
    "print(\" \")\n",
    "#or\n",
    "print(\" True or False = \"  , a or b)\n",
    "print(\" True or  True = \"  , a or a)\n",
    "print(\"False or False = \"  ,b or b)\n",
    "print(\" \")\n",
    "#not\n",
    "print(\" not  True = \", not a)\n",
    "print(\" not False = \", not b)"
   ]
  },
  {
   "cell_type": "code",
   "execution_count": null,
   "metadata": {
    "collapsed": true
   },
   "outputs": [],
   "source": []
  }
 ],
 "metadata": {
  "kernelspec": {
   "display_name": "Python 3",
   "language": "python",
   "name": "python3"
  },
  "language_info": {
   "codemirror_mode": {
    "name": "ipython",
    "version": 3
   },
   "file_extension": ".py",
   "mimetype": "text/x-python",
   "name": "python",
   "nbconvert_exporter": "python",
   "pygments_lexer": "ipython3",
   "version": "3.6.5"
  }
 },
 "nbformat": 4,
 "nbformat_minor": 2
}
